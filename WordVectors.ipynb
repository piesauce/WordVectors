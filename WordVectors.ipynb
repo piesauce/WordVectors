{
 "cells": [
  {
   "cell_type": "code",
   "execution_count": 1,
   "metadata": {
    "collapsed": true
   },
   "outputs": [],
   "source": [
    "import numpy as np\n"
   ]
  },
  {
   "cell_type": "code",
   "execution_count": 5,
   "metadata": {
    "collapsed": false
   },
   "outputs": [],
   "source": [
    "word_vec_dict = {}\n",
    "\n",
    "with open('glove.6B.50d.txt','r', encoding='utf-8') as f:\n",
    "    vocab = set()\n",
    "    \n",
    "    for line in f:\n",
    "        line = line.strip().split()\n",
    "        vocab.add(line[0])\n",
    "        word_vec_dict[line[0]] = np.array(line[1:], dtype=np.float64)\n",
    "    \n",
    "        \n",
    "    \n",
    "\n",
    "\n"
   ]
  },
  {
   "cell_type": "code",
   "execution_count": 6,
   "metadata": {
    "collapsed": true
   },
   "outputs": [],
   "source": [
    "def cosine_similarity(u, v):\n",
    "    \n",
    "    norm_u = np.linalg.norm(u)\n",
    "    norm_v = np.linalg.norm(v)\n",
    "    \n",
    "    cos_theta = np.dot(u, v) / (norm_u * norm_v)\n",
    "    \n",
    "    return cos_theta\n",
    "\n"
   ]
  },
  {
   "cell_type": "code",
   "execution_count": 11,
   "metadata": {
    "collapsed": true
   },
   "outputs": [],
   "source": [
    "def word_analogy(word_a, word_b, word_c, word_vec_dict):\n",
    "    \n",
    "    word_a, word_b, word_c = word_a.lower(), word_b.lower(), word_c.lower()\n",
    "    \n",
    "    word_a_embed = word_vec_dict[word_a]\n",
    "    word_b_embed = word_vec_dict[word_b]\n",
    "    word_c_embed = word_vec_dict[word_c]\n",
    "    \n",
    "    vocab = word_vec_dict.keys()\n",
    "    best_match = None\n",
    "    max_cos_theta = -100\n",
    "    \n",
    "    for word in vocab:\n",
    "        if word in [word_a, word_b, word_c]:\n",
    "            continue\n",
    "        cos_theta = cosine_similarity((word_b_embed - word_a_embed), (word_vec_dict[word] - word_c_embed))\n",
    "        if cos_theta > max_cos_theta:\n",
    "            max_cos_theta = cos_theta\n",
    "            best_match = word\n",
    "    return best_match\n",
    "    \n",
    "    \n",
    "    \n",
    "    \n",
    "\n",
    "\n",
    "    \n",
    "    "
   ]
  },
  {
   "cell_type": "code",
   "execution_count": null,
   "metadata": {
    "collapsed": true
   },
   "outputs": [],
   "source": []
  }
 ],
 "metadata": {
  "kernelspec": {
   "display_name": "Python 3",
   "language": "python",
   "name": "python3"
  },
  "language_info": {
   "codemirror_mode": {
    "name": "ipython",
    "version": 3
   },
   "file_extension": ".py",
   "mimetype": "text/x-python",
   "name": "python",
   "nbconvert_exporter": "python",
   "pygments_lexer": "ipython3",
   "version": "3.6.0"
  }
 },
 "nbformat": 4,
 "nbformat_minor": 2
}
